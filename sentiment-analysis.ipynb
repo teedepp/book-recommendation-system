{
 "cells": [
  {
   "cell_type": "code",
   "id": "initial_id",
   "metadata": {
    "collapsed": true,
    "ExecuteTime": {
     "end_time": "2025-05-20T15:43:18.260486Z",
     "start_time": "2025-05-20T15:43:18.180530Z"
    }
   },
   "source": [
    "import pandas as pd\n",
    "\n",
    "books = pd.read_csv('books_with_categories.csv')"
   ],
   "outputs": [],
   "execution_count": 2
  },
  {
   "metadata": {
    "ExecuteTime": {
     "end_time": "2025-05-20T15:49:44.476004Z",
     "start_time": "2025-05-20T15:49:42.888629Z"
    }
   },
   "cell_type": "code",
   "source": [
    "from transformers import pipeline\n",
    "classifier = pipeline(\"text-classification\", model=\"j-hartmann/emotion-english-distilroberta-base\", top_k=None)\n",
    "classifier(\"I love this!\")"
   ],
   "id": "d17b22aef567ff52",
   "outputs": [
    {
     "name": "stderr",
     "output_type": "stream",
     "text": [
      "Device set to use cpu\n"
     ]
    },
    {
     "data": {
      "text/plain": [
       "[[{'label': 'joy', 'score': 0.9771687984466553},\n",
       "  {'label': 'surprise', 'score': 0.008528673090040684},\n",
       "  {'label': 'neutral', 'score': 0.005764589179307222},\n",
       "  {'label': 'anger', 'score': 0.004419779404997826},\n",
       "  {'label': 'sadness', 'score': 0.002092391485348344},\n",
       "  {'label': 'disgust', 'score': 0.0016119909705594182},\n",
       "  {'label': 'fear', 'score': 0.00041385178337804973}]]"
      ]
     },
     "execution_count": 4,
     "metadata": {},
     "output_type": "execute_result"
    }
   ],
   "execution_count": 4
  },
  {
   "metadata": {
    "ExecuteTime": {
     "end_time": "2025-05-20T15:52:13.209086Z",
     "start_time": "2025-05-20T15:52:13.025210Z"
    }
   },
   "cell_type": "code",
   "source": "classifier(books[\"description\"][0])",
   "id": "e9660ed8de9e5426",
   "outputs": [
    {
     "data": {
      "text/plain": [
       "[[{'label': 'fear', 'score': 0.6548418998718262},\n",
       "  {'label': 'neutral', 'score': 0.16985182464122772},\n",
       "  {'label': 'sadness', 'score': 0.11640854179859161},\n",
       "  {'label': 'surprise', 'score': 0.020700592547655106},\n",
       "  {'label': 'disgust', 'score': 0.01910073682665825},\n",
       "  {'label': 'joy', 'score': 0.015161239542067051},\n",
       "  {'label': 'anger', 'score': 0.00393515033647418}]]"
      ]
     },
     "execution_count": 5,
     "metadata": {},
     "output_type": "execute_result"
    }
   ],
   "execution_count": 5
  },
  {
   "metadata": {
    "ExecuteTime": {
     "end_time": "2025-05-20T16:10:17.061066Z",
     "start_time": "2025-05-20T16:10:16.671095Z"
    }
   },
   "cell_type": "code",
   "source": "classifier(books[\"description\"][0].split(\".\"))",
   "id": "9a527064179421cf",
   "outputs": [
    {
     "data": {
      "text/plain": [
       "[[{'label': 'surprise', 'score': 0.7296027541160583},\n",
       "  {'label': 'neutral', 'score': 0.14038576185703278},\n",
       "  {'label': 'fear', 'score': 0.06816209107637405},\n",
       "  {'label': 'joy', 'score': 0.04794240742921829},\n",
       "  {'label': 'anger', 'score': 0.00915635284036398},\n",
       "  {'label': 'disgust', 'score': 0.0026284719351679087},\n",
       "  {'label': 'sadness', 'score': 0.0021221607457846403}],\n",
       " [{'label': 'neutral', 'score': 0.449370414018631},\n",
       "  {'label': 'disgust', 'score': 0.27359241247177124},\n",
       "  {'label': 'joy', 'score': 0.10908260941505432},\n",
       "  {'label': 'sadness', 'score': 0.09362703561782837},\n",
       "  {'label': 'anger', 'score': 0.040478307753801346},\n",
       "  {'label': 'surprise', 'score': 0.02697017230093479},\n",
       "  {'label': 'fear', 'score': 0.006879065651446581}],\n",
       " [{'label': 'neutral', 'score': 0.6462168097496033},\n",
       "  {'label': 'sadness', 'score': 0.2427326887845993},\n",
       "  {'label': 'disgust', 'score': 0.04342268034815788},\n",
       "  {'label': 'surprise', 'score': 0.028300466015934944},\n",
       "  {'label': 'joy', 'score': 0.014211482368409634},\n",
       "  {'label': 'fear', 'score': 0.014084089547395706},\n",
       "  {'label': 'anger', 'score': 0.011031883768737316}],\n",
       " [{'label': 'fear', 'score': 0.928168535232544},\n",
       "  {'label': 'anger', 'score': 0.0321907103061676},\n",
       "  {'label': 'neutral', 'score': 0.012808633036911488},\n",
       "  {'label': 'sadness', 'score': 0.00875683594495058},\n",
       "  {'label': 'surprise', 'score': 0.008597894571721554},\n",
       "  {'label': 'disgust', 'score': 0.008431794121861458},\n",
       "  {'label': 'joy', 'score': 0.0010455806041136384}],\n",
       " [{'label': 'sadness', 'score': 0.9671575427055359},\n",
       "  {'label': 'neutral', 'score': 0.015104170888662338},\n",
       "  {'label': 'disgust', 'score': 0.006480592768639326},\n",
       "  {'label': 'fear', 'score': 0.005393994972109795},\n",
       "  {'label': 'surprise', 'score': 0.0022869433742016554},\n",
       "  {'label': 'anger', 'score': 0.0018428886542096734},\n",
       "  {'label': 'joy', 'score': 0.001733880490064621}],\n",
       " [{'label': 'joy', 'score': 0.9327982664108276},\n",
       "  {'label': 'disgust', 'score': 0.03771686181426048},\n",
       "  {'label': 'neutral', 'score': 0.015891842544078827},\n",
       "  {'label': 'sadness', 'score': 0.006444473285228014},\n",
       "  {'label': 'anger', 'score': 0.005024951882660389},\n",
       "  {'label': 'surprise', 'score': 0.0015812074998393655},\n",
       "  {'label': 'fear', 'score': 0.0005423047696240246}],\n",
       " [{'label': 'joy', 'score': 0.6528704166412354},\n",
       "  {'label': 'neutral', 'score': 0.254274845123291},\n",
       "  {'label': 'surprise', 'score': 0.06808319687843323},\n",
       "  {'label': 'sadness', 'score': 0.009908993728458881},\n",
       "  {'label': 'disgust', 'score': 0.00651219068095088},\n",
       "  {'label': 'anger', 'score': 0.004821313079446554},\n",
       "  {'label': 'fear', 'score': 0.003529015462845564}],\n",
       " [{'label': 'neutral', 'score': 0.5494767427444458},\n",
       "  {'label': 'sadness', 'score': 0.11169015616178513},\n",
       "  {'label': 'disgust', 'score': 0.10400672256946564},\n",
       "  {'label': 'surprise', 'score': 0.07876548916101456},\n",
       "  {'label': 'anger', 'score': 0.06413363665342331},\n",
       "  {'label': 'fear', 'score': 0.05136279761791229},\n",
       "  {'label': 'joy', 'score': 0.040564414113759995}]]"
      ]
     },
     "execution_count": 7,
     "metadata": {},
     "output_type": "execute_result"
    }
   ],
   "execution_count": 7
  },
  {
   "metadata": {
    "ExecuteTime": {
     "end_time": "2025-05-20T16:12:45.386771Z",
     "start_time": "2025-05-20T16:12:45.024740Z"
    }
   },
   "cell_type": "code",
   "source": [
    "sentences = books[\"description\"][0].split(\".\")\n",
    "predictions = classifier(sentences)"
   ],
   "id": "add1bf2ade93e68f",
   "outputs": [],
   "execution_count": 8
  },
  {
   "metadata": {
    "ExecuteTime": {
     "end_time": "2025-05-20T16:12:51.968661Z",
     "start_time": "2025-05-20T16:12:51.961946Z"
    }
   },
   "cell_type": "code",
   "source": "sentences[0]",
   "id": "3d26589cdaaed206",
   "outputs": [
    {
     "data": {
      "text/plain": [
       "'A NOVEL THAT READERS and critics have been eagerly anticipating for over a decade, Gilead is an astonishingly imagined story of remarkable lives'"
      ]
     },
     "execution_count": 9,
     "metadata": {},
     "output_type": "execute_result"
    }
   ],
   "execution_count": 9
  },
  {
   "metadata": {
    "ExecuteTime": {
     "end_time": "2025-05-20T16:13:09.396648Z",
     "start_time": "2025-05-20T16:13:09.390941Z"
    }
   },
   "cell_type": "code",
   "source": "predictions[0]",
   "id": "6ea44cf1cbbff704",
   "outputs": [
    {
     "data": {
      "text/plain": [
       "[{'label': 'surprise', 'score': 0.7296027541160583},\n",
       " {'label': 'neutral', 'score': 0.14038576185703278},\n",
       " {'label': 'fear', 'score': 0.06816209107637405},\n",
       " {'label': 'joy', 'score': 0.04794240742921829},\n",
       " {'label': 'anger', 'score': 0.00915635284036398},\n",
       " {'label': 'disgust', 'score': 0.0026284719351679087},\n",
       " {'label': 'sadness', 'score': 0.0021221607457846403}]"
      ]
     },
     "execution_count": 10,
     "metadata": {},
     "output_type": "execute_result"
    }
   ],
   "execution_count": 10
  },
  {
   "metadata": {
    "ExecuteTime": {
     "end_time": "2025-05-20T16:13:31.395070Z",
     "start_time": "2025-05-20T16:13:31.390081Z"
    }
   },
   "cell_type": "code",
   "source": "sentences[3]",
   "id": "6d11b9a920933f40",
   "outputs": [
    {
     "data": {
      "text/plain": [
       "' Haunted by his grandfather’s presence, John tells of the rift between his grandfather and his father: the elder, an angry visionary who fought for the abolitionist cause, and his son, an ardent pacifist'"
      ]
     },
     "execution_count": 11,
     "metadata": {},
     "output_type": "execute_result"
    }
   ],
   "execution_count": 11
  },
  {
   "metadata": {
    "ExecuteTime": {
     "end_time": "2025-05-20T16:13:41.852217Z",
     "start_time": "2025-05-20T16:13:41.846462Z"
    }
   },
   "cell_type": "code",
   "source": "predictions[3]",
   "id": "db16231c6195623d",
   "outputs": [
    {
     "data": {
      "text/plain": [
       "[{'label': 'fear', 'score': 0.928168535232544},\n",
       " {'label': 'anger', 'score': 0.0321907103061676},\n",
       " {'label': 'neutral', 'score': 0.012808633036911488},\n",
       " {'label': 'sadness', 'score': 0.00875683594495058},\n",
       " {'label': 'surprise', 'score': 0.008597894571721554},\n",
       " {'label': 'disgust', 'score': 0.008431794121861458},\n",
       " {'label': 'joy', 'score': 0.0010455806041136384}]"
      ]
     },
     "execution_count": 12,
     "metadata": {},
     "output_type": "execute_result"
    }
   ],
   "execution_count": 12
  },
  {
   "metadata": {
    "ExecuteTime": {
     "end_time": "2025-05-20T18:12:50.519008Z",
     "start_time": "2025-05-20T18:12:50.504682Z"
    }
   },
   "cell_type": "code",
   "source": "sorted(predictions[0], key = lambda x: x[\"label\"])",
   "id": "36344a2b5116a44f",
   "outputs": [
    {
     "data": {
      "text/plain": [
       "[{'label': 'anger', 'score': 0.00915635284036398},\n",
       " {'label': 'disgust', 'score': 0.0026284719351679087},\n",
       " {'label': 'fear', 'score': 0.06816209107637405},\n",
       " {'label': 'joy', 'score': 0.04794240742921829},\n",
       " {'label': 'neutral', 'score': 0.14038576185703278},\n",
       " {'label': 'sadness', 'score': 0.0021221607457846403},\n",
       " {'label': 'surprise', 'score': 0.7296027541160583}]"
      ]
     },
     "execution_count": 13,
     "metadata": {},
     "output_type": "execute_result"
    }
   ],
   "execution_count": 13
  },
  {
   "metadata": {
    "ExecuteTime": {
     "end_time": "2025-05-20T18:21:06.934529Z",
     "start_time": "2025-05-20T18:21:06.924442Z"
    }
   },
   "cell_type": "code",
   "source": [
    "import numpy as np\n",
    "\n",
    "emotion_labels = [\"anger\", \"disgust\", \"fear\", \"joy\", \"neutral\", \"sadness\", \"surprise\"]\n",
    "isbn = []\n",
    "emotion_scores = {label:  [] for label in emotion_labels}\n",
    "\n",
    "def calculate_max_emotion_scores(predictions):\n",
    "    per_emotion_scores = {label: [] for label in emotion_labels}\n",
    "    for prediction in predictions:\n",
    "        sorted_predictions = sorted(prediction, key = lambda x: x[\"label\"])\n",
    "        for index, label in enumerate(emotion_labels):\n",
    "            per_emotion_scores[label].append(sorted_predictions[index]['score'])\n",
    "    return {label: np.max(scores) for label, scores in per_emotion_scores.items()}"
   ],
   "id": "bbd6f79dc5b2944c",
   "outputs": [],
   "execution_count": 14
  },
  {
   "metadata": {},
   "cell_type": "code",
   "outputs": [],
   "execution_count": 15,
   "source": [
    "for i in range(10):\n",
    "    isbn.append(books[\"isbn13\"][i])\n",
    "    sentences = books[\"description\"][i].split(\".\")\n",
    "    predictions = classifier(sentences)\n",
    "    max_scores = calculate_max_emotion_scores(predictions)\n",
    "    for label in emotion_labels:\n",
    "        emotion_scores[label].append(max_scores[label])"
   ],
   "id": "eb132e2e93e02fff"
  },
  {
   "metadata": {},
   "cell_type": "code",
   "outputs": [
    {
     "data": {
      "text/plain": [
       "{'anger': [np.float64(0.06413363665342331),\n",
       "  np.float64(0.6126185059547424),\n",
       "  np.float64(0.06413363665342331),\n",
       "  np.float64(0.3514834940433502),\n",
       "  np.float64(0.0814124047756195),\n",
       "  np.float64(0.23222540318965912),\n",
       "  np.float64(0.5381839871406555),\n",
       "  np.float64(0.06413363665342331),\n",
       "  np.float64(0.30066895484924316),\n",
       "  np.float64(0.06413363665342331)],\n",
       " 'disgust': [np.float64(0.27359241247177124),\n",
       "  np.float64(0.3482835590839386),\n",
       "  np.float64(0.10400672256946564),\n",
       "  np.float64(0.15072275698184967),\n",
       "  np.float64(0.18449535965919495),\n",
       "  np.float64(0.7271743416786194),\n",
       "  np.float64(0.1558549404144287),\n",
       "  np.float64(0.10400672256946564),\n",
       "  np.float64(0.27948135137557983),\n",
       "  np.float64(0.17792679369449615)],\n",
       " 'fear': [np.float64(0.928168535232544),\n",
       "  np.float64(0.942527711391449),\n",
       "  np.float64(0.9723208546638489),\n",
       "  np.float64(0.36070650815963745),\n",
       "  np.float64(0.0950433686375618),\n",
       "  np.float64(0.05136279761791229),\n",
       "  np.float64(0.7474278807640076),\n",
       "  np.float64(0.40449780225753784),\n",
       "  np.float64(0.9155241250991821),\n",
       "  np.float64(0.05136279761791229)],\n",
       " 'joy': [np.float64(0.9327982664108276),\n",
       "  np.float64(0.7044215202331543),\n",
       "  np.float64(0.7672374844551086),\n",
       "  np.float64(0.25188058614730835),\n",
       "  np.float64(0.040564414113759995),\n",
       "  np.float64(0.04337584972381592),\n",
       "  np.float64(0.8725652098655701),\n",
       "  np.float64(0.040564414113759995),\n",
       "  np.float64(0.040564414113759995),\n",
       "  np.float64(0.040564414113759995)],\n",
       " 'neutral': [np.float64(0.6462168097496033),\n",
       "  np.float64(0.887939453125),\n",
       "  np.float64(0.5494767427444458),\n",
       "  np.float64(0.732685387134552),\n",
       "  np.float64(0.8843895196914673),\n",
       "  np.float64(0.621392548084259),\n",
       "  np.float64(0.7121946215629578),\n",
       "  np.float64(0.5494767427444458),\n",
       "  np.float64(0.8402895331382751),\n",
       "  np.float64(0.8603722453117371)],\n",
       " 'sadness': [np.float64(0.9671575427055359),\n",
       "  np.float64(0.11169015616178513),\n",
       "  np.float64(0.11169015616178513),\n",
       "  np.float64(0.11169015616178513),\n",
       "  np.float64(0.47588053345680237),\n",
       "  np.float64(0.11169015616178513),\n",
       "  np.float64(0.4079996347427368),\n",
       "  np.float64(0.8202819228172302),\n",
       "  np.float64(0.35446080565452576),\n",
       "  np.float64(0.11169015616178513)],\n",
       " 'surprise': [np.float64(0.7296027541160583),\n",
       "  np.float64(0.2525451183319092),\n",
       "  np.float64(0.07876548916101456),\n",
       "  np.float64(0.07876548916101456),\n",
       "  np.float64(0.07876548916101456),\n",
       "  np.float64(0.27190282940864563),\n",
       "  np.float64(0.07876548916101456),\n",
       "  np.float64(0.23448683321475983),\n",
       "  np.float64(0.1356145590543747),\n",
       "  np.float64(0.07876548916101456)]}"
      ]
     },
     "execution_count": 16,
     "metadata": {},
     "output_type": "execute_result"
    }
   ],
   "execution_count": 16,
   "source": "emotion_scores",
   "id": "3969f375e18049a2"
  },
  {
   "metadata": {
    "ExecuteTime": {
     "end_time": "2025-05-20T18:27:27.252948Z",
     "start_time": "2025-05-20T18:27:27.248802Z"
    }
   },
   "cell_type": "code",
   "source": "from tqdm import tqdm",
   "id": "75ee76fa19076262",
   "outputs": [],
   "execution_count": 18
  },
  {
   "metadata": {
    "ExecuteTime": {
     "end_time": "2025-05-20T18:41:05.138034Z",
     "start_time": "2025-05-20T18:27:28.043231Z"
    }
   },
   "cell_type": "code",
   "source": [
    "emotion_labels = [\"anger\", \"disgust\", \"fear\", \"joy\", \"neutral\", \"sadness\", \"surprise\"]\n",
    "isbn = []\n",
    "emotion_scores = {label:  [] for label in emotion_labels}\n",
    "\n",
    "for i in tqdm(range(len(books))):\n",
    "    isbn.append(books[\"isbn13\"][i])\n",
    "    sentences = books[\"description\"][i].split(\".\")\n",
    "    predictions = classifier(sentences)\n",
    "    max_scores = calculate_max_emotion_scores(predictions)\n",
    "    for label in emotion_labels:\n",
    "        emotion_scores[label].append(max_scores[label])"
   ],
   "id": "9b70ba1acc2bcb10",
   "outputs": [
    {
     "name": "stderr",
     "output_type": "stream",
     "text": [
      "100%|██████████| 5197/5197 [13:37<00:00,  6.36it/s]\n"
     ]
    }
   ],
   "execution_count": 19
  },
  {
   "metadata": {
    "ExecuteTime": {
     "end_time": "2025-05-20T19:41:18.123981Z",
     "start_time": "2025-05-20T19:41:18.090525Z"
    }
   },
   "cell_type": "code",
   "source": [
    "emotions_df = pd.DataFrame(emotion_scores)\n",
    "emotions_df[\"isbn13\"] = isbn"
   ],
   "id": "f78a072e8be7c390",
   "outputs": [],
   "execution_count": 20
  },
  {
   "metadata": {
    "ExecuteTime": {
     "end_time": "2025-05-20T19:41:48.582714Z",
     "start_time": "2025-05-20T19:41:46.677425Z"
    }
   },
   "cell_type": "code",
   "source": "emotions_df.head()",
   "id": "193170066728f270",
   "outputs": [
    {
     "data": {
      "text/plain": [
       "      anger   disgust      fear       joy   neutral   sadness  surprise  \\\n",
       "0  0.064134  0.273592  0.928169  0.932798  0.646217  0.967158  0.729603   \n",
       "1  0.612619  0.348284  0.942528  0.704422  0.887939  0.111690  0.252545   \n",
       "2  0.064134  0.104007  0.972321  0.767237  0.549477  0.111690  0.078765   \n",
       "3  0.351483  0.150723  0.360707  0.251881  0.732685  0.111690  0.078765   \n",
       "4  0.081412  0.184495  0.095043  0.040564  0.884390  0.475881  0.078765   \n",
       "\n",
       "          isbn13  \n",
       "0  9780002005883  \n",
       "1  9780002261982  \n",
       "2  9780006178736  \n",
       "3  9780006280897  \n",
       "4  9780006280934  "
      ],
      "text/html": [
       "<div>\n",
       "<style scoped>\n",
       "    .dataframe tbody tr th:only-of-type {\n",
       "        vertical-align: middle;\n",
       "    }\n",
       "\n",
       "    .dataframe tbody tr th {\n",
       "        vertical-align: top;\n",
       "    }\n",
       "\n",
       "    .dataframe thead th {\n",
       "        text-align: right;\n",
       "    }\n",
       "</style>\n",
       "<table border=\"1\" class=\"dataframe\">\n",
       "  <thead>\n",
       "    <tr style=\"text-align: right;\">\n",
       "      <th></th>\n",
       "      <th>anger</th>\n",
       "      <th>disgust</th>\n",
       "      <th>fear</th>\n",
       "      <th>joy</th>\n",
       "      <th>neutral</th>\n",
       "      <th>sadness</th>\n",
       "      <th>surprise</th>\n",
       "      <th>isbn13</th>\n",
       "    </tr>\n",
       "  </thead>\n",
       "  <tbody>\n",
       "    <tr>\n",
       "      <th>0</th>\n",
       "      <td>0.064134</td>\n",
       "      <td>0.273592</td>\n",
       "      <td>0.928169</td>\n",
       "      <td>0.932798</td>\n",
       "      <td>0.646217</td>\n",
       "      <td>0.967158</td>\n",
       "      <td>0.729603</td>\n",
       "      <td>9780002005883</td>\n",
       "    </tr>\n",
       "    <tr>\n",
       "      <th>1</th>\n",
       "      <td>0.612619</td>\n",
       "      <td>0.348284</td>\n",
       "      <td>0.942528</td>\n",
       "      <td>0.704422</td>\n",
       "      <td>0.887939</td>\n",
       "      <td>0.111690</td>\n",
       "      <td>0.252545</td>\n",
       "      <td>9780002261982</td>\n",
       "    </tr>\n",
       "    <tr>\n",
       "      <th>2</th>\n",
       "      <td>0.064134</td>\n",
       "      <td>0.104007</td>\n",
       "      <td>0.972321</td>\n",
       "      <td>0.767237</td>\n",
       "      <td>0.549477</td>\n",
       "      <td>0.111690</td>\n",
       "      <td>0.078765</td>\n",
       "      <td>9780006178736</td>\n",
       "    </tr>\n",
       "    <tr>\n",
       "      <th>3</th>\n",
       "      <td>0.351483</td>\n",
       "      <td>0.150723</td>\n",
       "      <td>0.360707</td>\n",
       "      <td>0.251881</td>\n",
       "      <td>0.732685</td>\n",
       "      <td>0.111690</td>\n",
       "      <td>0.078765</td>\n",
       "      <td>9780006280897</td>\n",
       "    </tr>\n",
       "    <tr>\n",
       "      <th>4</th>\n",
       "      <td>0.081412</td>\n",
       "      <td>0.184495</td>\n",
       "      <td>0.095043</td>\n",
       "      <td>0.040564</td>\n",
       "      <td>0.884390</td>\n",
       "      <td>0.475881</td>\n",
       "      <td>0.078765</td>\n",
       "      <td>9780006280934</td>\n",
       "    </tr>\n",
       "  </tbody>\n",
       "</table>\n",
       "</div>"
      ]
     },
     "execution_count": 22,
     "metadata": {},
     "output_type": "execute_result"
    }
   ],
   "execution_count": 22
  },
  {
   "metadata": {
    "ExecuteTime": {
     "end_time": "2025-05-20T19:42:44.484480Z",
     "start_time": "2025-05-20T19:42:44.253789Z"
    }
   },
   "cell_type": "code",
   "source": "books = pd.merge(books, emotions_df, on=\"isbn13\")",
   "id": "90dc5b4f690d7386",
   "outputs": [],
   "execution_count": 23
  },
  {
   "metadata": {
    "ExecuteTime": {
     "end_time": "2025-05-20T19:42:49.732904Z",
     "start_time": "2025-05-20T19:42:49.691017Z"
    }
   },
   "cell_type": "code",
   "source": "books",
   "id": "587260ab79068893",
   "outputs": [
    {
     "data": {
      "text/plain": [
       "             isbn13      isbn10  \\\n",
       "0     9780002005883  0002005883   \n",
       "1     9780002261982  0002261987   \n",
       "2     9780006178736  0006178731   \n",
       "3     9780006280897  0006280897   \n",
       "4     9780006280934  0006280935   \n",
       "...             ...         ...   \n",
       "5192  9788172235222  8172235224   \n",
       "5193  9788173031014  8173031010   \n",
       "5194  9788179921623  817992162X   \n",
       "5195  9788185300535  8185300534   \n",
       "5196  9789027712059  9027712050   \n",
       "\n",
       "                                                  title  \\\n",
       "0                                                Gilead   \n",
       "1                                          Spider's Web   \n",
       "2                                        Rage of angels   \n",
       "3                                        The Four Loves   \n",
       "4                                   The Problem of Pain   \n",
       "...                                                 ...   \n",
       "5192                                  Mistaken Identity   \n",
       "5193                                Journey to the East   \n",
       "5194  The Monk Who Sold His Ferrari: A Fable About F...   \n",
       "5195                                          I Am that   \n",
       "5196                           The Berlin Phenomenology   \n",
       "\n",
       "                                           authors  \\\n",
       "0                               Marilynne Robinson   \n",
       "1                  Charles Osborne;Agatha Christie   \n",
       "2                                   Sidney Sheldon   \n",
       "3                              Clive Staples Lewis   \n",
       "4                              Clive Staples Lewis   \n",
       "...                                            ...   \n",
       "5192                              Nayantara Sahgal   \n",
       "5193                                 Hermann Hesse   \n",
       "5194                                  Robin Sharma   \n",
       "5195  Sri Nisargadatta Maharaj;Sudhakar S. Dikshit   \n",
       "5196                 Georg Wilhelm Friedrich Hegel   \n",
       "\n",
       "                         categories  \\\n",
       "0                           Fiction   \n",
       "1     Detective and mystery stories   \n",
       "2                           Fiction   \n",
       "3                    Christian life   \n",
       "4                    Christian life   \n",
       "...                             ...   \n",
       "5192        Indic fiction (English)   \n",
       "5193              Adventure stories   \n",
       "5194               Health & Fitness   \n",
       "5195                     Philosophy   \n",
       "5196                        History   \n",
       "\n",
       "                                              thumbnail  \\\n",
       "0     http://books.google.com/books/content?id=KQZCP...   \n",
       "1     http://books.google.com/books/content?id=gA5GP...   \n",
       "2     http://books.google.com/books/content?id=FKo2T...   \n",
       "3     http://books.google.com/books/content?id=XhQ5X...   \n",
       "4     http://books.google.com/books/content?id=Kk-uV...   \n",
       "...                                                 ...   \n",
       "5192  http://books.google.com/books/content?id=q-tKP...   \n",
       "5193  http://books.google.com/books/content?id=rq6JP...   \n",
       "5194  http://books.google.com/books/content?id=c_7mf...   \n",
       "5195  http://books.google.com/books/content?id=Fv_JP...   \n",
       "5196  http://books.google.com/books/content?id=Vy7Sk...   \n",
       "\n",
       "                                            description  published_year  \\\n",
       "0     A NOVEL THAT READERS and critics have been eag...          2004.0   \n",
       "1     A new 'Christie for Christmas' -- a full-lengt...          2000.0   \n",
       "2     A memorable, mesmerizing heroine Jennifer -- b...          1993.0   \n",
       "3     Lewis' work on the nature of love divides love...          2002.0   \n",
       "4     \"In The Problem of Pain, C.S. Lewis, one of th...          2002.0   \n",
       "...                                                 ...             ...   \n",
       "5192  On A Train Journey Home To North India After L...          2003.0   \n",
       "5193  This book tells the tale of a man who goes on ...          2002.0   \n",
       "5194  Wisdom to Create a Life of Passion, Purpose, a...          2003.0   \n",
       "5195  This collection of the timeless teachings of o...          1999.0   \n",
       "5196  Since the three volume edition ofHegel's Philo...          1981.0   \n",
       "\n",
       "      average_rating  num_pages  ...  \\\n",
       "0               3.85      247.0  ...   \n",
       "1               3.83      241.0  ...   \n",
       "2               3.93      512.0  ...   \n",
       "3               4.15      170.0  ...   \n",
       "4               4.09      176.0  ...   \n",
       "...              ...        ...  ...   \n",
       "5192            2.93      324.0  ...   \n",
       "5193            3.70      175.0  ...   \n",
       "5194            3.82      198.0  ...   \n",
       "5195            4.51      531.0  ...   \n",
       "5196            0.00      210.0  ...   \n",
       "\n",
       "                                     title_and_subtitle  \\\n",
       "0                                                Gilead   \n",
       "1                                 Spider's Web: A Novel   \n",
       "2                                        Rage of angels   \n",
       "3                                        The Four Loves   \n",
       "4                                   The Problem of Pain   \n",
       "...                                                 ...   \n",
       "5192                                  Mistaken Identity   \n",
       "5193                                Journey to the East   \n",
       "5194  The Monk Who Sold His Ferrari: A Fable About F...   \n",
       "5195     I Am that: Talks with Sri Nisargadatta Maharaj   \n",
       "5196                           The Berlin Phenomenology   \n",
       "\n",
       "                                     tagged_description simple_categories  \\\n",
       "0     9780002005883 A NOVEL THAT READERS and critics...           Fiction   \n",
       "1     9780002261982 A new 'Christie for Christmas' -...           Fiction   \n",
       "2     9780006178736 A memorable, mesmerizing heroine...           Fiction   \n",
       "3     9780006280897 Lewis' work on the nature of lov...        Nonfiction   \n",
       "4     9780006280934 \"In The Problem of Pain, C.S. Le...        Nonfiction   \n",
       "...                                                 ...               ...   \n",
       "5192  9788172235222 On A Train Journey Home To North...           Fiction   \n",
       "5193  9788173031014 This book tells the tale of a ma...        Nonfiction   \n",
       "5194  9788179921623 Wisdom to Create a Life of Passi...           Fiction   \n",
       "5195  9788185300535 This collection of the timeless ...        Nonfiction   \n",
       "5196  9789027712059 Since the three volume edition o...        Nonfiction   \n",
       "\n",
       "         anger   disgust      fear       joy   neutral   sadness  surprise  \n",
       "0     0.064134  0.273592  0.928169  0.932798  0.646217  0.967158  0.729603  \n",
       "1     0.612619  0.348284  0.942528  0.704422  0.887939  0.111690  0.252545  \n",
       "2     0.064134  0.104007  0.972321  0.767237  0.549477  0.111690  0.078765  \n",
       "3     0.351483  0.150723  0.360707  0.251881  0.732685  0.111690  0.078765  \n",
       "4     0.081412  0.184495  0.095043  0.040564  0.884390  0.475881  0.078765  \n",
       "...        ...       ...       ...       ...       ...       ...       ...  \n",
       "5192  0.148208  0.030643  0.919165  0.255171  0.853722  0.980877  0.030656  \n",
       "5193  0.064134  0.114383  0.051363  0.400263  0.883198  0.111690  0.227765  \n",
       "5194  0.009997  0.009929  0.339217  0.947779  0.375755  0.066685  0.057625  \n",
       "5195  0.064134  0.104007  0.459268  0.759456  0.951104  0.368112  0.078765  \n",
       "5196  0.064134  0.104007  0.051363  0.958549  0.915193  0.111690  0.078765  \n",
       "\n",
       "[5197 rows x 21 columns]"
      ],
      "text/html": [
       "<div>\n",
       "<style scoped>\n",
       "    .dataframe tbody tr th:only-of-type {\n",
       "        vertical-align: middle;\n",
       "    }\n",
       "\n",
       "    .dataframe tbody tr th {\n",
       "        vertical-align: top;\n",
       "    }\n",
       "\n",
       "    .dataframe thead th {\n",
       "        text-align: right;\n",
       "    }\n",
       "</style>\n",
       "<table border=\"1\" class=\"dataframe\">\n",
       "  <thead>\n",
       "    <tr style=\"text-align: right;\">\n",
       "      <th></th>\n",
       "      <th>isbn13</th>\n",
       "      <th>isbn10</th>\n",
       "      <th>title</th>\n",
       "      <th>authors</th>\n",
       "      <th>categories</th>\n",
       "      <th>thumbnail</th>\n",
       "      <th>description</th>\n",
       "      <th>published_year</th>\n",
       "      <th>average_rating</th>\n",
       "      <th>num_pages</th>\n",
       "      <th>...</th>\n",
       "      <th>title_and_subtitle</th>\n",
       "      <th>tagged_description</th>\n",
       "      <th>simple_categories</th>\n",
       "      <th>anger</th>\n",
       "      <th>disgust</th>\n",
       "      <th>fear</th>\n",
       "      <th>joy</th>\n",
       "      <th>neutral</th>\n",
       "      <th>sadness</th>\n",
       "      <th>surprise</th>\n",
       "    </tr>\n",
       "  </thead>\n",
       "  <tbody>\n",
       "    <tr>\n",
       "      <th>0</th>\n",
       "      <td>9780002005883</td>\n",
       "      <td>0002005883</td>\n",
       "      <td>Gilead</td>\n",
       "      <td>Marilynne Robinson</td>\n",
       "      <td>Fiction</td>\n",
       "      <td>http://books.google.com/books/content?id=KQZCP...</td>\n",
       "      <td>A NOVEL THAT READERS and critics have been eag...</td>\n",
       "      <td>2004.0</td>\n",
       "      <td>3.85</td>\n",
       "      <td>247.0</td>\n",
       "      <td>...</td>\n",
       "      <td>Gilead</td>\n",
       "      <td>9780002005883 A NOVEL THAT READERS and critics...</td>\n",
       "      <td>Fiction</td>\n",
       "      <td>0.064134</td>\n",
       "      <td>0.273592</td>\n",
       "      <td>0.928169</td>\n",
       "      <td>0.932798</td>\n",
       "      <td>0.646217</td>\n",
       "      <td>0.967158</td>\n",
       "      <td>0.729603</td>\n",
       "    </tr>\n",
       "    <tr>\n",
       "      <th>1</th>\n",
       "      <td>9780002261982</td>\n",
       "      <td>0002261987</td>\n",
       "      <td>Spider's Web</td>\n",
       "      <td>Charles Osborne;Agatha Christie</td>\n",
       "      <td>Detective and mystery stories</td>\n",
       "      <td>http://books.google.com/books/content?id=gA5GP...</td>\n",
       "      <td>A new 'Christie for Christmas' -- a full-lengt...</td>\n",
       "      <td>2000.0</td>\n",
       "      <td>3.83</td>\n",
       "      <td>241.0</td>\n",
       "      <td>...</td>\n",
       "      <td>Spider's Web: A Novel</td>\n",
       "      <td>9780002261982 A new 'Christie for Christmas' -...</td>\n",
       "      <td>Fiction</td>\n",
       "      <td>0.612619</td>\n",
       "      <td>0.348284</td>\n",
       "      <td>0.942528</td>\n",
       "      <td>0.704422</td>\n",
       "      <td>0.887939</td>\n",
       "      <td>0.111690</td>\n",
       "      <td>0.252545</td>\n",
       "    </tr>\n",
       "    <tr>\n",
       "      <th>2</th>\n",
       "      <td>9780006178736</td>\n",
       "      <td>0006178731</td>\n",
       "      <td>Rage of angels</td>\n",
       "      <td>Sidney Sheldon</td>\n",
       "      <td>Fiction</td>\n",
       "      <td>http://books.google.com/books/content?id=FKo2T...</td>\n",
       "      <td>A memorable, mesmerizing heroine Jennifer -- b...</td>\n",
       "      <td>1993.0</td>\n",
       "      <td>3.93</td>\n",
       "      <td>512.0</td>\n",
       "      <td>...</td>\n",
       "      <td>Rage of angels</td>\n",
       "      <td>9780006178736 A memorable, mesmerizing heroine...</td>\n",
       "      <td>Fiction</td>\n",
       "      <td>0.064134</td>\n",
       "      <td>0.104007</td>\n",
       "      <td>0.972321</td>\n",
       "      <td>0.767237</td>\n",
       "      <td>0.549477</td>\n",
       "      <td>0.111690</td>\n",
       "      <td>0.078765</td>\n",
       "    </tr>\n",
       "    <tr>\n",
       "      <th>3</th>\n",
       "      <td>9780006280897</td>\n",
       "      <td>0006280897</td>\n",
       "      <td>The Four Loves</td>\n",
       "      <td>Clive Staples Lewis</td>\n",
       "      <td>Christian life</td>\n",
       "      <td>http://books.google.com/books/content?id=XhQ5X...</td>\n",
       "      <td>Lewis' work on the nature of love divides love...</td>\n",
       "      <td>2002.0</td>\n",
       "      <td>4.15</td>\n",
       "      <td>170.0</td>\n",
       "      <td>...</td>\n",
       "      <td>The Four Loves</td>\n",
       "      <td>9780006280897 Lewis' work on the nature of lov...</td>\n",
       "      <td>Nonfiction</td>\n",
       "      <td>0.351483</td>\n",
       "      <td>0.150723</td>\n",
       "      <td>0.360707</td>\n",
       "      <td>0.251881</td>\n",
       "      <td>0.732685</td>\n",
       "      <td>0.111690</td>\n",
       "      <td>0.078765</td>\n",
       "    </tr>\n",
       "    <tr>\n",
       "      <th>4</th>\n",
       "      <td>9780006280934</td>\n",
       "      <td>0006280935</td>\n",
       "      <td>The Problem of Pain</td>\n",
       "      <td>Clive Staples Lewis</td>\n",
       "      <td>Christian life</td>\n",
       "      <td>http://books.google.com/books/content?id=Kk-uV...</td>\n",
       "      <td>\"In The Problem of Pain, C.S. Lewis, one of th...</td>\n",
       "      <td>2002.0</td>\n",
       "      <td>4.09</td>\n",
       "      <td>176.0</td>\n",
       "      <td>...</td>\n",
       "      <td>The Problem of Pain</td>\n",
       "      <td>9780006280934 \"In The Problem of Pain, C.S. Le...</td>\n",
       "      <td>Nonfiction</td>\n",
       "      <td>0.081412</td>\n",
       "      <td>0.184495</td>\n",
       "      <td>0.095043</td>\n",
       "      <td>0.040564</td>\n",
       "      <td>0.884390</td>\n",
       "      <td>0.475881</td>\n",
       "      <td>0.078765</td>\n",
       "    </tr>\n",
       "    <tr>\n",
       "      <th>...</th>\n",
       "      <td>...</td>\n",
       "      <td>...</td>\n",
       "      <td>...</td>\n",
       "      <td>...</td>\n",
       "      <td>...</td>\n",
       "      <td>...</td>\n",
       "      <td>...</td>\n",
       "      <td>...</td>\n",
       "      <td>...</td>\n",
       "      <td>...</td>\n",
       "      <td>...</td>\n",
       "      <td>...</td>\n",
       "      <td>...</td>\n",
       "      <td>...</td>\n",
       "      <td>...</td>\n",
       "      <td>...</td>\n",
       "      <td>...</td>\n",
       "      <td>...</td>\n",
       "      <td>...</td>\n",
       "      <td>...</td>\n",
       "      <td>...</td>\n",
       "    </tr>\n",
       "    <tr>\n",
       "      <th>5192</th>\n",
       "      <td>9788172235222</td>\n",
       "      <td>8172235224</td>\n",
       "      <td>Mistaken Identity</td>\n",
       "      <td>Nayantara Sahgal</td>\n",
       "      <td>Indic fiction (English)</td>\n",
       "      <td>http://books.google.com/books/content?id=q-tKP...</td>\n",
       "      <td>On A Train Journey Home To North India After L...</td>\n",
       "      <td>2003.0</td>\n",
       "      <td>2.93</td>\n",
       "      <td>324.0</td>\n",
       "      <td>...</td>\n",
       "      <td>Mistaken Identity</td>\n",
       "      <td>9788172235222 On A Train Journey Home To North...</td>\n",
       "      <td>Fiction</td>\n",
       "      <td>0.148208</td>\n",
       "      <td>0.030643</td>\n",
       "      <td>0.919165</td>\n",
       "      <td>0.255171</td>\n",
       "      <td>0.853722</td>\n",
       "      <td>0.980877</td>\n",
       "      <td>0.030656</td>\n",
       "    </tr>\n",
       "    <tr>\n",
       "      <th>5193</th>\n",
       "      <td>9788173031014</td>\n",
       "      <td>8173031010</td>\n",
       "      <td>Journey to the East</td>\n",
       "      <td>Hermann Hesse</td>\n",
       "      <td>Adventure stories</td>\n",
       "      <td>http://books.google.com/books/content?id=rq6JP...</td>\n",
       "      <td>This book tells the tale of a man who goes on ...</td>\n",
       "      <td>2002.0</td>\n",
       "      <td>3.70</td>\n",
       "      <td>175.0</td>\n",
       "      <td>...</td>\n",
       "      <td>Journey to the East</td>\n",
       "      <td>9788173031014 This book tells the tale of a ma...</td>\n",
       "      <td>Nonfiction</td>\n",
       "      <td>0.064134</td>\n",
       "      <td>0.114383</td>\n",
       "      <td>0.051363</td>\n",
       "      <td>0.400263</td>\n",
       "      <td>0.883198</td>\n",
       "      <td>0.111690</td>\n",
       "      <td>0.227765</td>\n",
       "    </tr>\n",
       "    <tr>\n",
       "      <th>5194</th>\n",
       "      <td>9788179921623</td>\n",
       "      <td>817992162X</td>\n",
       "      <td>The Monk Who Sold His Ferrari: A Fable About F...</td>\n",
       "      <td>Robin Sharma</td>\n",
       "      <td>Health &amp; Fitness</td>\n",
       "      <td>http://books.google.com/books/content?id=c_7mf...</td>\n",
       "      <td>Wisdom to Create a Life of Passion, Purpose, a...</td>\n",
       "      <td>2003.0</td>\n",
       "      <td>3.82</td>\n",
       "      <td>198.0</td>\n",
       "      <td>...</td>\n",
       "      <td>The Monk Who Sold His Ferrari: A Fable About F...</td>\n",
       "      <td>9788179921623 Wisdom to Create a Life of Passi...</td>\n",
       "      <td>Fiction</td>\n",
       "      <td>0.009997</td>\n",
       "      <td>0.009929</td>\n",
       "      <td>0.339217</td>\n",
       "      <td>0.947779</td>\n",
       "      <td>0.375755</td>\n",
       "      <td>0.066685</td>\n",
       "      <td>0.057625</td>\n",
       "    </tr>\n",
       "    <tr>\n",
       "      <th>5195</th>\n",
       "      <td>9788185300535</td>\n",
       "      <td>8185300534</td>\n",
       "      <td>I Am that</td>\n",
       "      <td>Sri Nisargadatta Maharaj;Sudhakar S. Dikshit</td>\n",
       "      <td>Philosophy</td>\n",
       "      <td>http://books.google.com/books/content?id=Fv_JP...</td>\n",
       "      <td>This collection of the timeless teachings of o...</td>\n",
       "      <td>1999.0</td>\n",
       "      <td>4.51</td>\n",
       "      <td>531.0</td>\n",
       "      <td>...</td>\n",
       "      <td>I Am that: Talks with Sri Nisargadatta Maharaj</td>\n",
       "      <td>9788185300535 This collection of the timeless ...</td>\n",
       "      <td>Nonfiction</td>\n",
       "      <td>0.064134</td>\n",
       "      <td>0.104007</td>\n",
       "      <td>0.459268</td>\n",
       "      <td>0.759456</td>\n",
       "      <td>0.951104</td>\n",
       "      <td>0.368112</td>\n",
       "      <td>0.078765</td>\n",
       "    </tr>\n",
       "    <tr>\n",
       "      <th>5196</th>\n",
       "      <td>9789027712059</td>\n",
       "      <td>9027712050</td>\n",
       "      <td>The Berlin Phenomenology</td>\n",
       "      <td>Georg Wilhelm Friedrich Hegel</td>\n",
       "      <td>History</td>\n",
       "      <td>http://books.google.com/books/content?id=Vy7Sk...</td>\n",
       "      <td>Since the three volume edition ofHegel's Philo...</td>\n",
       "      <td>1981.0</td>\n",
       "      <td>0.00</td>\n",
       "      <td>210.0</td>\n",
       "      <td>...</td>\n",
       "      <td>The Berlin Phenomenology</td>\n",
       "      <td>9789027712059 Since the three volume edition o...</td>\n",
       "      <td>Nonfiction</td>\n",
       "      <td>0.064134</td>\n",
       "      <td>0.104007</td>\n",
       "      <td>0.051363</td>\n",
       "      <td>0.958549</td>\n",
       "      <td>0.915193</td>\n",
       "      <td>0.111690</td>\n",
       "      <td>0.078765</td>\n",
       "    </tr>\n",
       "  </tbody>\n",
       "</table>\n",
       "<p>5197 rows × 21 columns</p>\n",
       "</div>"
      ]
     },
     "execution_count": 24,
     "metadata": {},
     "output_type": "execute_result"
    }
   ],
   "execution_count": 24
  },
  {
   "metadata": {
    "ExecuteTime": {
     "end_time": "2025-05-20T19:46:55.404435Z",
     "start_time": "2025-05-20T19:46:54.925671Z"
    }
   },
   "cell_type": "code",
   "source": "books.to_csv(\"books_with_emotions.csv\", index=False)",
   "id": "b03115290acfad7c",
   "outputs": [],
   "execution_count": 26
  },
  {
   "metadata": {},
   "cell_type": "code",
   "outputs": [],
   "execution_count": null,
   "source": "",
   "id": "4d178297e6facf4a"
  }
 ],
 "metadata": {
  "kernelspec": {
   "display_name": "Python 3",
   "language": "python",
   "name": "python3"
  },
  "language_info": {
   "codemirror_mode": {
    "name": "ipython",
    "version": 2
   },
   "file_extension": ".py",
   "mimetype": "text/x-python",
   "name": "python",
   "nbconvert_exporter": "python",
   "pygments_lexer": "ipython2",
   "version": "2.7.6"
  }
 },
 "nbformat": 4,
 "nbformat_minor": 5
}
